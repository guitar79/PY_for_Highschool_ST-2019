{
 "cells": [
  {
   "cell_type": "markdown",
   "metadata": {
    "colab_type": "text",
    "id": "hgwkawzGMlms"
   },
   "source": [
    "**getting started python**\n",
    "\n",
    "\n",
    "* 이 자료는 파이썬을 처음 접하는 사람들을 위해 만들었다.\n",
    "\n",
    "* <a rel=\"license\" href=\"http://creativecommons.org/licenses/by-nc-sa/4.0/\">크리에이티브 커먼즈 저작자표시-비영리-동일조건변경허락 4.0 국제 라이선스</a>에 따라 이용할 수 있음.\n",
    "\n",
    "<a rel=\"license\" href=\"http://creativecommons.org/licenses/by-nc-sa/4.0/\"><img alt=\"크리에이티브 커먼즈 라이선스\" style=\"border-width:0\" src=\"https://i.creativecommons.org/l/by-nc-sa/4.0/88x31.png\" /></a>"
   ]
  },
  {
   "attachments": {},
   "cell_type": "markdown",
   "metadata": {
    "colab_type": "text",
    "id": "u7wfBH1zb8kW"
   },
   "source": [
    "\n",
    "# Python\n",
    "\n",
    "python의 공식 [웹사이트](https://www.python.org/) 에서 자신의 운영체제에 맞는 python을 설치할 수 있지만, \n",
    "본 강의에서는 [Anaconda](https://anaconda.org/)를 설치하여 pyton을 이용할 것이다. \n",
    "\n",
    "그리고 많은 사람들이 Microsoft Windows 8, 10 등을 사용하고 계실 것으로 판단되어 이것을 기본으로 한다.\n",
    "하지만 애플 제품이나 linux를 사용하는 경우에 큰 문제는 없을 것으로 생각된다.\n",
    "\n",
    "Python 2 와 python 3이 서로 다르지만 앞으로는 python 3가 더 빈번하게 사용될 것이니 Python 3를 사용하자.\n",
    "\n",
    "\n",
    "# Anaconda\n",
    "\n",
    "[Anaconda](https://anaconda.org/)를 통해 설치할 것이다.\n",
    "\n",
    "Python 2 와 python 3이 서로 다르지만 앞으로는 python3가 더 빈번하게 사용될 것이니 Anaconda 3과 Python 3를 사용하자.\n",
    "\n",
    "다운로드가 끝나면 terminal windows를 열기 위하여 아래 그림과 같이 (시작) 메뉴에서 \"ana\"라고 입력하여 anaconda prompt를 열어보자.\n",
    "\n",
    "![DesktopScreenshot2018.11.12-13.37.13.64.png](images/DesktopScreenshot2018.11.12-13.37.13.64.png)\n",
    "\n",
    "그러면 프롬프트가 아래와 같이 나타날 것이다. \n",
    "\n",
    "내 컴퓨터의 사용자 명이 \"user\"이다.\n",
    "\n",
    ">(base) C:\\Users\\user>\n",
    "\n",
    "![DesktopScreenshot2018.11.12-13.37.17.18.png](images/DesktopScreenshot2018.11.12-13.37.17.18.png)\n",
    "\n",
    "\n",
    "# Install Python packages\n",
    "\n",
    "python package를 사용하기 위해서는 미리 설치되어 있어야 한다. pip 또는 anaconda 를 이용하여 설치할 수 있는데, anaconda (https://www.anaconda.com/download/) 를 주로 사용할 것이다.\n",
    "\n",
    " Anaconda prompt에서 다음과 같이 입력하여 package를 설치할 수 있다.\n",
    "\n",
    ">(base) C:\\Users\\user>conda install astropy\n",
    "\n"
   ]
  }
 ],
 "metadata": {
  "accelerator": "GPU",
  "colab": {
   "collapsed_sections": [],
   "include_colab_link": true,
   "name": "08-2.Installation",
   "provenance": [],
   "toc_visible": true,
   "version": "0.3.2"
  },
  "kernelspec": {
   "display_name": "Python 3",
   "language": "python",
   "name": "python3"
  },
  "language_info": {
   "codemirror_mode": {
    "name": "ipython",
    "version": 3
   },
   "file_extension": ".py",
   "mimetype": "text/x-python",
   "name": "python",
   "nbconvert_exporter": "python",
   "pygments_lexer": "ipython3",
   "version": "3.6.7"
  },
  "widgets": {
   "application/vnd.jupyter.widget-state+json": {
    "state": {},
    "version_major": 2,
    "version_minor": 0
   }
  }
 },
 "nbformat": 4,
 "nbformat_minor": 1
}
