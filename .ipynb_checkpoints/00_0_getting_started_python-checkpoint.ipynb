{
 "cells": [
  {
   "cell_type": "markdown",
   "metadata": {
    "colab_type": "text",
    "id": "hgwkawzGMlms"
   },
   "source": [
    "**getting started python**\n",
    "\n",
    "\n",
    "* 이 자료는 파이썬을 처음 접하는 사람들을 위해 만들었다.\n",
    "\n",
    "* <a rel=\"license\" href=\"http://creativecommons.org/licenses/by-nc-sa/4.0/\">크리에이티브 커먼즈 저작자표시-비영리-동일조건변경허락 4.0 국제 라이선스</a>에 따라 이용할 수 있음.\n",
    "\n",
    "<a rel=\"license\" href=\"http://creativecommons.org/licenses/by-nc-sa/4.0/\"><img alt=\"크리에이티브 커먼즈 라이선스\" style=\"border-width:0\" src=\"https://i.creativecommons.org/l/by-nc-sa/4.0/88x31.png\" /></a>"
   ]
  },
  {
   "attachments": {},
   "cell_type": "markdown",
   "metadata": {
    "colab_type": "text",
    "id": "u7wfBH1zb8kW"
   },
   "source": [
    "\n",
    "# Python\n",
    "\n",
    "python의 공식 [웹사이트](https://www.python.org/) 에서 자신의 운영체제에 맞는 python을 설치할 수 있지만, \n",
    "본 강의에서는 [Anaconda](https://anaconda.org/)를 설치하여 pyton을 이용할 것이다. \n",
    "\n",
    "그리고 많은 사람들이 Microsoft Windows 8, 10 등을 사용하고 계실 것으로 판단되어 이것을 기본으로 한다.\n",
    "하지만 애플 제품이나 linux를 사용하는 경우에 큰 문제는 없을 것으로 생각된다.\n",
    "\n",
    "Python 2 와 python 3이 서로 다르지만 앞으로는 python 3가 더 빈번하게 사용될 것이니 Python 3를 사용하자.\n",
    "\n",
    "\n",
    "# Install anaconda\n",
    "\n",
    "위에서 언급했다시피 본 강의에서는 [Anaconda](https://anaconda.org/)를 설치하여 pyton을 이용할 것이다. \n",
    "\n",
    "python의 장점은 막강한 많은 라이브러리들 있다는 점인데, 이 라이브러리를 설치하고 관리하는것이 어렵다는 것이 단점이기도 하다.\n",
    "\n",
    "Anaconda는 라이이브러 설치와 가상 환경 설정에 도움을 줄 수 있는 툴이다. \n",
    "\n",
    "Python 2 와 python 3이 서로 다르지만 앞으로는 python3가 더 빈번하게 사용될 것이니 Anaconda 3과 Python 3를 사용하자.\n",
    "\n",
    "Windows 버전 설치 중에 다음과 같은 옵션 선택이 나오면 아래 것만 체크하고 넘어간다.\n",
    "\n",
    "![install-win-path.png](images/install-win-path.png)\n",
    "![install-win-path.png]<img src=\"images/install-win-path.png\">\n",
    "\n",
    "그리고 Install Micorsoft VSCode를 물어오는데, 이것은 그냥 설치해도 무방하다.\n",
    "\n",
    "![vscode-install.png](images/vscode-install.png)\n",
    "\n",
    "다운로드가 끝나면 terminal windows를 열기 위하여 아래 그림과 같이 (시작) 메뉴에서 \"ana\"라고 입력하여 anaconda prompt를 열어보자.\n",
    "\n",
    "![DesktopScreenshot2018.11.12-13.37.13.64.png](images/DesktopScreenshot2018.11.12-13.37.13.64.png)\n",
    "\n",
    "그러면 prompt가 아래와 같이 나타날 것이다. \n",
    "\n",
    "내 컴퓨터의 사용자 명이 \"user\"이다.\n",
    "\n",
    ">(base) C:\\Users\\user>\n",
    "\n",
    "![DesktopScreenshot2018.11.12-13.37.17.18.png](images/DesktopScreenshot2018.11.12-13.37.17.18.png)\n",
    "\n",
    "\n",
    "# Using spyder\n",
    "\n",
    "python IDE로 spyder를 사용할 예정이다. spyder를 사용하기 위하여 anaconda prompt에서 아래와 같이 입력한다.\n",
    "\n",
    ">(base) C:\\Users\\user>spyder\n",
    "\n",
    "![DesktopScreenshot2018.11.12-20.28.20.41.png](image/DesktopScreenshot2018.11.12-20.28.20.41.png)\n",
    "\n",
    "실행이 정상적으로 되면 아래와 같은 창이 나타난다.\n",
    "\n",
    "![DesktopScreenshot2018.11.12-20.29.06.44.png](images/DesktopScreenshot2018.11.12-20.29.06.44.png)\n",
    "\n"
   ]
  }
 ],
 "metadata": {
  "accelerator": "GPU",
  "colab": {
   "collapsed_sections": [],
   "include_colab_link": true,
   "name": "08-2.Installation",
   "provenance": [],
   "toc_visible": true,
   "version": "0.3.2"
  },
  "kernelspec": {
   "display_name": "Python 3",
   "language": "python",
   "name": "python3"
  },
  "language_info": {
   "codemirror_mode": {
    "name": "ipython",
    "version": 3
   },
   "file_extension": ".py",
   "mimetype": "text/x-python",
   "name": "python",
   "nbconvert_exporter": "python",
   "pygments_lexer": "ipython3",
   "version": "3.6.7"
  },
  "widgets": {
   "application/vnd.jupyter.widget-state+json": {
    "state": {},
    "version_major": 2,
    "version_minor": 0
   }
  }
 },
 "nbformat": 4,
 "nbformat_minor": 1
}
