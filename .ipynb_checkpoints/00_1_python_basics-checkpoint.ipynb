{
 "cells": [
  {
   "cell_type": "markdown",
   "metadata": {
    "colab_type": "text",
    "id": "view-in-github"
   },
   "source": [
    "[View in Colaboratory](https://colab.research.google.com/github/guitar79/OA-2018/blob/master/05_2_python_basics.ipynb)"
   ]
  },
  {
   "cell_type": "markdown",
   "metadata": {
    "colab_type": "text",
    "id": "3g6o04iLM0AF"
   },
   "source": [
    "python 사용법에 대해 간단히 설명한다. \n",
    "\n",
    "자세한 내용은 official Python tutorial (https://docs.python.org/3/tutorial/index.html) 을 참고하기 바란다."
   ]
  },
  {
   "cell_type": "markdown",
   "metadata": {
    "colab_type": "text",
    "id": "hgwkawzGMlms"
   },
   "source": [
    "#Python Basics\n",
    "\n",
    "다음과 같이 간단하게 사용할 수 있다."
   ]
  },
  {
   "cell_type": "code",
   "execution_count": 1,
   "metadata": {
    "colab": {
     "base_uri": "https://localhost:8080/",
     "height": 35
    },
    "colab_type": "code",
    "id": "jm93PJyuTWrw",
    "outputId": "6906a2d8-df06-4d79-8676-30b03b111e33"
   },
   "outputs": [
    {
     "data": {
      "text/plain": [
       "-6"
      ]
     },
     "execution_count": 1,
     "metadata": {
      "tags": []
     },
     "output_type": "execute_result"
    }
   ],
   "source": [
    "4-10"
   ]
  },
  {
   "cell_type": "code",
   "execution_count": 2,
   "metadata": {
    "colab": {
     "base_uri": "https://localhost:8080/",
     "height": 125
    },
    "colab_type": "code",
    "id": "Rqcj4dEaTdUk",
    "outputId": "8ad96f07-9e5f-42d0-b291-d051280285f5"
   },
   "outputs": [
    {
     "name": "stdout",
     "output_type": "stream",
     "text": [
      "6\n",
      "2.3333333333333335\n",
      "2\n",
      "6\n",
      "125\n",
      "0.38157141418444396\n"
     ]
    }
   ],
   "source": [
    "print (2*3)\n",
    "print (7/3)\n",
    "print (7//3)\n",
    "print (32 % 26)\n",
    "print (5 ** 3)\n",
    "print (18**(-1/3.))"
   ]
  },
  {
   "cell_type": "markdown",
   "metadata": {
    "colab_type": "text",
    "id": "EO475o4L3tOt"
   },
   "source": [
    "# Data Types\n",
    "\n",
    "Python도 다른 프로그래밍 언어처럼 몇몇 데이터 타입이 있다. \n",
    "\n",
    "**Numeric and boolean literals**\n",
    "\n",
    "데이터 타입을 보려면 다음과 같이 type 함수를 사용할 수 있다."
   ]
  },
  {
   "cell_type": "code",
   "execution_count": 3,
   "metadata": {
    "colab": {
     "base_uri": "https://localhost:8080/",
     "height": 305
    },
    "colab_type": "code",
    "id": "HLGSMzKqdwT5",
    "outputId": "fb40ec6a-0e65-44fc-e81b-7eb7666081cc"
   },
   "outputs": [
    {
     "name": "stdout",
     "output_type": "stream",
     "text": [
      "3\n",
      "3.14\n",
      "3.14159\n",
      "51000000000.0\n",
      "(2.5+5.3j)\n",
      "True\n",
      "False\n",
      "<class 'int'>\n",
      "<class 'float'>\n",
      "<class 'float'>\n",
      "<class 'float'>\n",
      "<class 'complex'>\n",
      "<class 'bool'>\n",
      "<class 'bool'>\n",
      "0.9554140127388535\n",
      "(7.5+15.899999999999999j)\n"
     ]
    }
   ],
   "source": [
    "a = 3     # integer\n",
    "b = 3.14  # float (real number)\n",
    "c = 3.14159 # a floating point number\n",
    "d = 5.1e10 # scientific notation\n",
    "e = 2.5 + 5.3j # a complex number\n",
    "hungry = True # boolean literal\n",
    "need_coffee = False # another boolean literal\n",
    "\n",
    "print(a)  # will print 3\n",
    "print(b)  # will print 3.14\n",
    "print(c)  # will print cc\n",
    "print(d)  \n",
    "print(e)  \n",
    "print(hungry)\n",
    "print(need_coffee)\n",
    "print(type(a))   # the data types of a, b, c\n",
    "print(type(b))\n",
    "print(type(c))\n",
    "print(type(d))\n",
    "print(type(e))\n",
    "print(type(hungry))\n",
    "print(type(need_coffee))\n",
    "print(a / b)\n",
    "print(a * e)"
   ]
  },
  {
   "cell_type": "markdown",
   "metadata": {
    "colab_type": "text",
    "id": "MOeWh0-ep-kE"
   },
   "source": [
    "**Strings**\n",
    "\n"
   ]
  },
  {
   "cell_type": "code",
   "execution_count": 4,
   "metadata": {
    "colab": {
     "base_uri": "https://localhost:8080/",
     "height": 71
    },
    "colab_type": "code",
    "id": "VMJ43ddGV9z7",
    "outputId": "4aa75ecb-3667-4c0c-dad4-2703251e5c56"
   },
   "outputs": [
    {
     "name": "stdout",
     "output_type": "stream",
     "text": [
      "Hello world!\n",
      "She said, \"Hello, world!\"\n",
      "She said, 'Hello, world!'\n"
     ]
    }
   ],
   "source": [
    "hello = 'Hello world!'\n",
    "print(hello)\n",
    "\n",
    "print ('She said, \"Hello, world!\"')\n",
    "print (\"She said, 'Hello, world!'\")"
   ]
  },
  {
   "cell_type": "code",
   "execution_count": 5,
   "metadata": {
    "colab": {
     "base_uri": "https://localhost:8080/",
     "height": 107
    },
    "colab_type": "code",
    "id": "dfq8L9kbqaTO",
    "outputId": "777b167c-f335-4ac9-b113-157a43ec5df8"
   },
   "outputs": [
    {
     "name": "stdout",
     "output_type": "stream",
     "text": [
      "MIRANDA\n",
      "O, wonder!\n",
      "How many goodly creatures are there here!\n",
      "How beauteous mankind is! O brave new world\n",
      "That has such people in't!\n"
     ]
    }
   ],
   "source": [
    "print (\"\"\"MIRANDA\n",
    "O, wonder!\n",
    "How many goodly creatures are there here!\n",
    "How beauteous mankind is! O brave new world\n",
    "That has such people in't!\"\"\")"
   ]
  },
  {
   "cell_type": "code",
   "execution_count": 6,
   "metadata": {
    "colab": {
     "base_uri": "https://localhost:8080/",
     "height": 35
    },
    "colab_type": "code",
    "id": "h7qiE4AQqkza",
    "outputId": "a0f5fb6a-f32e-40db-c22e-f873a0a158c9"
   },
   "outputs": [
    {
     "data": {
      "text/plain": [
       "'abcdef'"
      ]
     },
     "execution_count": 6,
     "metadata": {
      "tags": []
     },
     "output_type": "execute_result"
    }
   ],
   "source": [
    "'abc' + 'def'"
   ]
  },
  {
   "cell_type": "code",
   "execution_count": 7,
   "metadata": {
    "colab": {
     "base_uri": "https://localhost:8080/",
     "height": 35
    },
    "colab_type": "code",
    "id": "3_CrlsnkqvrL",
    "outputId": "84438e6e-5d27-493c-e5ba-4733fb276310"
   },
   "outputs": [
    {
     "data": {
      "text/plain": [
       "True"
      ]
     },
     "execution_count": 7,
     "metadata": {
      "tags": []
     },
     "output_type": "execute_result"
    }
   ],
   "source": [
    "filename = '../data/PTF_d022683_f02_c06_u000114210_p12_refimg.fits'\n",
    "filename.endswith('fits')"
   ]
  },
  {
   "cell_type": "code",
   "execution_count": 8,
   "metadata": {
    "colab": {
     "base_uri": "https://localhost:8080/",
     "height": 35
    },
    "colab_type": "code",
    "id": "5WBCnfgMq7ys",
    "outputId": "4fba4d7d-3aad-44e3-edb9-adc73e27173e"
   },
   "outputs": [
    {
     "data": {
      "text/plain": [
       "['..', 'data', 'PTF_d022683_f02_c06_u000114210_p12_refimg.fits']"
      ]
     },
     "execution_count": 8,
     "metadata": {
      "tags": []
     },
     "output_type": "execute_result"
    }
   ],
   "source": [
    "filename = '../data/PTF_d022683_f02_c06_u000114210_p12_refimg.fits'\n",
    "filename.split('/')"
   ]
  },
  {
   "cell_type": "code",
   "execution_count": 0,
   "metadata": {
    "colab": {},
    "colab_type": "code",
    "id": "VEWSU1x6rZIb"
   },
   "outputs": [],
   "source": [
    "some_list = ['a','b',3,10]"
   ]
  },
  {
   "cell_type": "markdown",
   "metadata": {
    "colab_type": "text",
    "id": "2nj6C-VofNLC"
   },
   "source": [
    "# Lists and tuples\n",
    "\n",
    "Lists are flexible containers which can contain python objects of any type. You can add or remove items or alter\n",
    "existing items. Lists are surrounded by square brackets and have items separated by commas."
   ]
  },
  {
   "cell_type": "code",
   "execution_count": 10,
   "metadata": {
    "colab": {
     "base_uri": "https://localhost:8080/",
     "height": 35
    },
    "colab_type": "code",
    "id": "tpbtRUjMrwOg",
    "outputId": "58891159-3604-4b7a-cb2d-c02f85bd231e"
   },
   "outputs": [
    {
     "name": "stdout",
     "output_type": "stream",
     "text": [
      "['a', 'b', 3, 10]\n"
     ]
    }
   ],
   "source": [
    "some_list = ['a','b',3,10]\n",
    "print (some_list)"
   ]
  },
  {
   "cell_type": "code",
   "execution_count": 11,
   "metadata": {
    "colab": {
     "base_uri": "https://localhost:8080/",
     "height": 35
    },
    "colab_type": "code",
    "id": "TRunlhXSscrA",
    "outputId": "306305a3-3749-4c05-df61-a26f77a525f0"
   },
   "outputs": [
    {
     "data": {
      "text/plain": [
       "'a'"
      ]
     },
     "execution_count": 11,
     "metadata": {
      "tags": []
     },
     "output_type": "execute_result"
    }
   ],
   "source": [
    "some_list[0]"
   ]
  },
  {
   "cell_type": "markdown",
   "metadata": {
    "colab_type": "text",
    "id": "29GMpMuorI6J"
   },
   "source": [
    "**index**\n",
    "\n",
    "'index'는 '0' 부터 시작하며, 다음과 같은 데이터 형태들이 있다."
   ]
  },
  {
   "cell_type": "code",
   "execution_count": 12,
   "metadata": {
    "colab": {
     "base_uri": "https://localhost:8080/",
     "height": 89
    },
    "colab_type": "code",
    "id": "QrEWOlmP7Wxr",
    "outputId": "89086942-ebe2-43eb-abca-ab3dc51b154a"
   },
   "outputs": [
    {
     "name": "stdout",
     "output_type": "stream",
     "text": [
      "A:  0 1 2\n",
      "B:  3 4 5\n",
      "AB:  [0, 1, 2] (3, 4, 5)\n",
      "type:  <class 'list'> <class 'tuple'>\n"
     ]
    }
   ],
   "source": [
    "A = [0,1,2]            # classical Python \"list\"\n",
    "B = (3,4,5)            # classical Python \"tuple\"\n",
    "\n",
    "\n",
    "print('A: ', A[0], A[1], A[2])\n",
    "print('B: ', B[0], B[1], B[2])\n",
    "\n",
    "print('AB: ', A, B)\n",
    "print('type: ', type(A), type(B))"
   ]
  },
  {
   "cell_type": "code",
   "execution_count": 13,
   "metadata": {
    "colab": {
     "base_uri": "https://localhost:8080/",
     "height": 35
    },
    "colab_type": "code",
    "id": "54yHBiPwskS_",
    "outputId": "ef0fa3c1-9592-4eb8-ac85-e3845177fa00"
   },
   "outputs": [
    {
     "name": "stdout",
     "output_type": "stream",
     "text": [
      "[4, 5, 6, 7, [8, 9, 10]]\n"
     ]
    }
   ],
   "source": [
    "another_list = [4,5,6,7,[8,9,10]]\n",
    "print(another_list)"
   ]
  },
  {
   "cell_type": "code",
   "execution_count": 14,
   "metadata": {
    "colab": {
     "base_uri": "https://localhost:8080/",
     "height": 71
    },
    "colab_type": "code",
    "id": "BMoLnGWes3-T",
    "outputId": "38f40de5-1fbf-4f0a-acf6-26821da0e5b3"
   },
   "outputs": [
    {
     "name": "stdout",
     "output_type": "stream",
     "text": [
      "[4, 5]\n",
      "[8, 9, 10]\n",
      "9\n"
     ]
    }
   ],
   "source": [
    "print(another_list[0:2])\n",
    "print(another_list[-1])\n",
    "print(another_list[-1][1])"
   ]
  },
  {
   "cell_type": "markdown",
   "metadata": {
    "colab_type": "text",
    "id": "SZoHAzJMtsY8"
   },
   "source": [
    "# Dictionaries\n",
    "\n",
    "Sometimes, you want a collection that is like a list, but whose indices are strings or other Python values. That's a\n",
    "dictionary. Dictionaries are handy for any type of database-like operation, or for storing mappings from one set of\n",
    "values to another. You create a dictionary by enclosing a list of key-value pairs in curly braces:"
   ]
  },
  {
   "cell_type": "code",
   "execution_count": 15,
   "metadata": {
    "colab": {
     "base_uri": "https://localhost:8080/",
     "height": 91
    },
    "colab_type": "code",
    "id": "7sQm6jlEtw-L",
    "outputId": "4f72f2ff-4f01-4d15-86c9-356ece28ec83"
   },
   "outputs": [
    {
     "name": "stdout",
     "output_type": "stream",
     "text": [
      "{'name': 'GRB 130702A', 'redshift': 0.145, 'ra': (14, 29, 14.78), 'dec': (15, 46, 26.4)}\n",
      "(14, 29, 14.78)\n",
      "(15, 46, 26.4)\n"
     ]
    }
   ],
   "source": [
    "my_grb = {'name': 'GRB 130702A', 'redshift': 0.145, 'ra': (14, 29, 14.78), 'dec': (15, 46, 26.4)}\n",
    "print(my_grb)\n",
    "print(my_grb['ra'])\n",
    "print(my_grb['dec'])"
   ]
  },
  {
   "cell_type": "markdown",
   "metadata": {
    "colab_type": "text",
    "id": "Hl1bCPgwucmZ"
   },
   "source": [
    "dictionary에 item을 추가하거나 삭제할 수 있다."
   ]
  },
  {
   "cell_type": "code",
   "execution_count": 16,
   "metadata": {
    "colab": {
     "base_uri": "https://localhost:8080/",
     "height": 73
    },
    "colab_type": "code",
    "id": "APRmpiQkuhiC",
    "outputId": "cc2a92d9-8855-423b-800d-c9decc355ba0"
   },
   "outputs": [
    {
     "name": "stdout",
     "output_type": "stream",
     "text": [
      "{'name': 'GRB 130702A', 'redshift': 0.145, 'ra': (14, 29, 14.78), 'dec': (15, 46, 26.4), 'url': 'http://gcn.gsfc.nasa.gov/other/130702A.gcn3'}\n",
      "{'redshift': 0.145, 'ra': (14, 29, 14.78), 'dec': (15, 46, 26.4), 'url': 'http://gcn.gsfc.nasa.gov/other/130702A.gcn3'}\n"
     ]
    }
   ],
   "source": [
    "my_grb = {'name': 'GRB 130702A', 'redshift': 0.145, 'ra': (14, 29, 14.78), 'dec': (15, 46, 26.4)}\n",
    "\n",
    "my_grb['url'] = 'http://gcn.gsfc.nasa.gov/other/130702A.gcn3'\n",
    "print(my_grb)\n",
    "\n",
    "del my_grb['name']\n",
    "print(my_grb)"
   ]
  },
  {
   "cell_type": "markdown",
   "metadata": {
    "colab_type": "text",
    "id": "j3arcPyufWiI"
   },
   "source": [
    "# Conditions/Loops\n",
    "\n",
    " **Conditions**\n",
    "\n",
    "In Python, control flow statements such as conditionals and loops have blocks indicated with indentation. Any number\n",
    "of spaces or tabs is fine, as long as you are consistent within a block. Four spaces is the recommended standard.\n",
    "You can use the if...elif...else statement to have different bits of code run depending on the truth or falsehood of\n",
    "boolean expressions. For example:"
   ]
  },
  {
   "cell_type": "code",
   "execution_count": 17,
   "metadata": {
    "colab": {
     "base_uri": "https://localhost:8080/",
     "height": 35
    },
    "colab_type": "code",
    "id": "OVDrHgwRf5hy",
    "outputId": "81483e4d-be97-4ede-be6c-49b76ae6b976"
   },
   "outputs": [
    {
     "name": "stdout",
     "output_type": "stream",
     "text": [
      "Different!\n"
     ]
    }
   ],
   "source": [
    "x, y, z = 3, 3.14, 10-7\n",
    "if (x != y):\n",
    "    print('Different!')"
   ]
  },
  {
   "cell_type": "code",
   "execution_count": 18,
   "metadata": {
    "colab": {
     "base_uri": "https://localhost:8080/",
     "height": 35
    },
    "colab_type": "code",
    "id": "P_FOgj1VvqYT",
    "outputId": "a73bc6ca-671a-4399-8c40-a5868ccabb46"
   },
   "outputs": [
    {
     "name": "stdout",
     "output_type": "stream",
     "text": [
      "the key \"foo\" is in the dictionary\n"
     ]
    }
   ],
   "source": [
    "d = {'foo': 3, 'bar': 5, 'bat': 9}\n",
    "if 'foo' in d:\n",
    "   print ('the key \"foo\" is in the dictionary')"
   ]
  },
  {
   "cell_type": "markdown",
   "metadata": {
    "colab_type": "text",
    "id": "GjTYwaalvxcC"
   },
   "source": [
    "**The for and while loops**\n",
    "\n",
    "In Python, there are just two types of loops: for and while. for loops are useful for repeating a set of statements for\n",
    "each item in a collection (tuple, set, list, dictionary, or string). while loops are not as common, but can be used to\n",
    "repeat a set of statements until a boolean expression becomes false."
   ]
  },
  {
   "cell_type": "code",
   "execution_count": 19,
   "metadata": {
    "colab": {
     "base_uri": "https://localhost:8080/",
     "height": 89
    },
    "colab_type": "code",
    "id": "-X19YWxMv7DW",
    "outputId": "e3856449-ff9d-40d9-ce08-2256ce0c53af"
   },
   "outputs": [
    {
     "name": "stdout",
     "output_type": "stream",
     "text": [
      "0\n",
      "1\n",
      "4\n",
      "9\n"
     ]
    }
   ],
   "source": [
    "for i in [0, 1, 2, 3]:\n",
    "  print (i**2)"
   ]
  },
  {
   "cell_type": "code",
   "execution_count": 20,
   "metadata": {
    "colab": {
     "base_uri": "https://localhost:8080/",
     "height": 89
    },
    "colab_type": "code",
    "id": "ed-jFeWWwN_N",
    "outputId": "0d4dbd8d-610b-4c09-b299-ec2fc57ef5b6"
   },
   "outputs": [
    {
     "name": "stdout",
     "output_type": "stream",
     "text": [
      "0\n",
      "1\n",
      "4\n",
      "9\n"
     ]
    }
   ],
   "source": [
    "for i in range(4):\n",
    "  print (i**2)"
   ]
  },
  {
   "cell_type": "code",
   "execution_count": 21,
   "metadata": {
    "colab": {
     "base_uri": "https://localhost:8080/",
     "height": 125
    },
    "colab_type": "code",
    "id": "RuCiqhh9wVPl",
    "outputId": "37f76851-526b-40bd-9102-cc7c48cc5ef3"
   },
   "outputs": [
    {
     "name": "stdout",
     "output_type": "stream",
     "text": [
      "4\n",
      "1\n",
      "0\n",
      "1\n",
      "4\n",
      "9\n"
     ]
    }
   ],
   "source": [
    "for i in range(-2, 4):\n",
    "  print (i**2)"
   ]
  },
  {
   "cell_type": "code",
   "execution_count": 22,
   "metadata": {
    "colab": {
     "base_uri": "https://localhost:8080/",
     "height": 71
    },
    "colab_type": "code",
    "id": "pklQklntwez8",
    "outputId": "d821556c-21de-45b6-ebe0-f0c09d565725"
   },
   "outputs": [
    {
     "name": "stdout",
     "output_type": "stream",
     "text": [
      "foo ... 27\n",
      "bar ... 125\n",
      "bat ... 729\n"
     ]
    }
   ],
   "source": [
    "d = {'foo': 3, 'bar': 5, 'bat': 9}\n",
    "for key, val in d.items():\n",
    "  print (key, '...', val**3)"
   ]
  },
  {
   "cell_type": "code",
   "execution_count": 23,
   "metadata": {
    "colab": {
     "base_uri": "https://localhost:8080/",
     "height": 35
    },
    "colab_type": "code",
    "id": "GRvdzEYimD91",
    "outputId": "a11d0d80-e6db-440c-d360-67ff04180806"
   },
   "outputs": [
    {
     "name": "stdout",
     "output_type": "stream",
     "text": [
      "0 False 1 True 2 False 3 False 4 False 5 False 6 False 7 False 8 False \t'Oh it's NEIN!'\n"
     ]
    }
   ],
   "source": [
    "import numpy as np\n",
    "\n",
    "L  = np.arange(0, 10, 1) # numpy array with elements (0, 10) with interval 1\n",
    "L1 = np.ones((10))  # 10 by 1 sized numpy array, filled with 1\n",
    "\n",
    "for i in range(0,10):\n",
    "    if (L[i] == 9):\n",
    "        print(\"\\t'Oh it's NEIN!'\")\n",
    "        continue\n",
    "    print(L[i], end=' ') # option \"end\" sets the ending part for each print; test many cases by yourself!\n",
    "    print(L[i]==L1[i], end=' ')"
   ]
  },
  {
   "cell_type": "markdown",
   "metadata": {
    "colab_type": "text",
    "id": "62OniAYonS4E"
   },
   "source": [
    "The syntax of the while loop is similar to the if statement"
   ]
  },
  {
   "cell_type": "code",
   "execution_count": 24,
   "metadata": {
    "colab": {
     "base_uri": "https://localhost:8080/",
     "height": 71
    },
    "colab_type": "code",
    "id": "49D-KyxEw0Nj",
    "outputId": "83dd450c-a862-4e86-a02d-2f4ce4a9240d"
   },
   "outputs": [
    {
     "name": "stdout",
     "output_type": "stream",
     "text": [
      "2\n",
      "4\n",
      "8\n"
     ]
    }
   ],
   "source": [
    "a = 1\n",
    "while a < 5:\n",
    "  a = a * 2\n",
    "  print (a)"
   ]
  },
  {
   "cell_type": "code",
   "execution_count": 25,
   "metadata": {
    "colab": {
     "base_uri": "https://localhost:8080/",
     "height": 125
    },
    "colab_type": "code",
    "id": "Y8vHOUQmnVDC",
    "outputId": "7aa909cd-159c-480e-85e2-83f9a98145bb"
   },
   "outputs": [
    {
     "name": "stdout",
     "output_type": "stream",
     "text": [
      "0 1.0\n",
      "1 1.0\n",
      "2 1.0\n",
      "3 1.0\n",
      "4 1.0\n",
      "j reached 5\n"
     ]
    }
   ],
   "source": [
    "L1 = np.ones((10))  # 10 by 1 sized numpy array, filled with 1\n",
    "j = 0\n",
    "while (1):  # identical to while(True)\n",
    "    print(j, L1[j])\n",
    "    j += 1\n",
    "    if(j==5):\n",
    "        print(\"j reached 5\")\n",
    "        break"
   ]
  },
  {
   "cell_type": "markdown",
   "metadata": {
    "colab_type": "text",
    "id": "bcr1xYOSEuMp"
   },
   "source": [
    "# Functions\n",
    "\n",
    "Functions are created with the def statement. A function may either have or not have a return statement to send back a return value."
   ]
  },
  {
   "cell_type": "code",
   "execution_count": 26,
   "metadata": {
    "colab": {
     "base_uri": "https://localhost:8080/",
     "height": 35
    },
    "colab_type": "code",
    "id": "dT4trPZPE4HL",
    "outputId": "f58cfb7b-a05d-4342-95de-64f8cc61c9c3"
   },
   "outputs": [
    {
     "name": "stdout",
     "output_type": "stream",
     "text": [
      "9\n"
     ]
    }
   ],
   "source": [
    "def square(n):\n",
    "  return n * n\n",
    "a = square(3)\n",
    "print (a)"
   ]
  },
  {
   "cell_type": "code",
   "execution_count": 27,
   "metadata": {
    "colab": {
     "base_uri": "https://localhost:8080/",
     "height": 35
    },
    "colab_type": "code",
    "id": "l0rTalCLFCqX",
    "outputId": "1783cfbd-2899-4eed-8bde-361b50f10c3b"
   },
   "outputs": [
    {
     "name": "stdout",
     "output_type": "stream",
     "text": [
      "(9, 27)\n"
     ]
    }
   ],
   "source": [
    "def powers(n):\n",
    "  return n**2, n**3\n",
    "print (powers(3))"
   ]
  },
  {
   "cell_type": "markdown",
   "metadata": {
    "colab_type": "text",
    "id": "P9E8JRN8Fl3V"
   },
   "source": [
    "If you pass a mutable value such as a list to a function, then the function may modify that value. For example, you might implement the Fibonacci sequence like this:"
   ]
  },
  {
   "cell_type": "code",
   "execution_count": 28,
   "metadata": {
    "colab": {
     "base_uri": "https://localhost:8080/",
     "height": 35
    },
    "colab_type": "code",
    "id": "OhC1eTFbFodl",
    "outputId": "6428c357-d9ae-4535-e1ca-1951e69b5c51"
   },
   "outputs": [
    {
     "name": "stdout",
     "output_type": "stream",
     "text": [
      "[1, 1, 2, 3, 5, 8, 13, 21, 34, 55]\n"
     ]
    }
   ],
   "source": [
    "def fibonacci(seed, n):\n",
    "  while len(seed) < n:\n",
    "    seed.append(seed[-1] + seed[-2])\n",
    "# Note: no return statement\n",
    "seed = [1, 1]\n",
    "fibonacci(seed, 10)\n",
    "print (seed)"
   ]
  },
  {
   "cell_type": "markdown",
   "metadata": {
    "colab_type": "text",
    "id": "hJpJDLaUF0qg"
   },
   "source": [
    "# Error handling\n",
    "\n",
    "It can be important for your code to be able to handle error conditions. For example, let's say that you are\n",
    "implementing a sinc function:"
   ]
  },
  {
   "cell_type": "code",
   "execution_count": 29,
   "metadata": {
    "colab": {
     "base_uri": "https://localhost:8080/",
     "height": 316
    },
    "colab_type": "code",
    "id": "_DU0gsNMF7fD",
    "outputId": "10691d5f-298f-42d6-c886-c9688d9c6270"
   },
   "outputs": [
    {
     "ename": "ZeroDivisionError",
     "evalue": "ignored",
     "output_type": "error",
     "traceback": [
      "\u001b[0;31m---------------------------------------------------------------------------\u001b[0m",
      "\u001b[0;31mZeroDivisionError\u001b[0m                         Traceback (most recent call last)",
      "\u001b[0;32m<ipython-input-29-31eacdbf7a06>\u001b[0m in \u001b[0;36m<module>\u001b[0;34m()\u001b[0m\n\u001b[1;32m      2\u001b[0m \u001b[0;32mdef\u001b[0m \u001b[0msinc\u001b[0m\u001b[0;34m(\u001b[0m\u001b[0mx\u001b[0m\u001b[0;34m)\u001b[0m\u001b[0;34m:\u001b[0m\u001b[0;34m\u001b[0m\u001b[0m\n\u001b[1;32m      3\u001b[0m   \u001b[0;32mreturn\u001b[0m \u001b[0mmath\u001b[0m\u001b[0;34m.\u001b[0m\u001b[0msin\u001b[0m\u001b[0;34m(\u001b[0m\u001b[0mx\u001b[0m\u001b[0;34m)\u001b[0m \u001b[0;34m/\u001b[0m \u001b[0mx\u001b[0m\u001b[0;34m\u001b[0m\u001b[0m\n\u001b[0;32m----> 4\u001b[0;31m \u001b[0mprint\u001b[0m \u001b[0;34m(\u001b[0m\u001b[0msinc\u001b[0m\u001b[0;34m(\u001b[0m\u001b[0;36m0\u001b[0m\u001b[0;34m)\u001b[0m\u001b[0;34m)\u001b[0m\u001b[0;34m\u001b[0m\u001b[0m\n\u001b[0m",
      "\u001b[0;32m<ipython-input-29-31eacdbf7a06>\u001b[0m in \u001b[0;36msinc\u001b[0;34m(x)\u001b[0m\n\u001b[1;32m      1\u001b[0m \u001b[0;32mimport\u001b[0m \u001b[0mmath\u001b[0m\u001b[0;34m\u001b[0m\u001b[0m\n\u001b[1;32m      2\u001b[0m \u001b[0;32mdef\u001b[0m \u001b[0msinc\u001b[0m\u001b[0;34m(\u001b[0m\u001b[0mx\u001b[0m\u001b[0;34m)\u001b[0m\u001b[0;34m:\u001b[0m\u001b[0;34m\u001b[0m\u001b[0m\n\u001b[0;32m----> 3\u001b[0;31m   \u001b[0;32mreturn\u001b[0m \u001b[0mmath\u001b[0m\u001b[0;34m.\u001b[0m\u001b[0msin\u001b[0m\u001b[0;34m(\u001b[0m\u001b[0mx\u001b[0m\u001b[0;34m)\u001b[0m \u001b[0;34m/\u001b[0m \u001b[0mx\u001b[0m\u001b[0;34m\u001b[0m\u001b[0m\n\u001b[0m\u001b[1;32m      4\u001b[0m \u001b[0mprint\u001b[0m \u001b[0;34m(\u001b[0m\u001b[0msinc\u001b[0m\u001b[0;34m(\u001b[0m\u001b[0;36m0\u001b[0m\u001b[0;34m)\u001b[0m\u001b[0;34m)\u001b[0m\u001b[0;34m\u001b[0m\u001b[0m\n",
      "\u001b[0;31mZeroDivisionError\u001b[0m: float division by zero"
     ]
    }
   ],
   "source": [
    "import math\n",
    "def sinc(x):\n",
    "  return math.sin(x) / x\n",
    "print (sinc(0))"
   ]
  },
  {
   "cell_type": "code",
   "execution_count": 8,
   "metadata": {
    "colab": {
     "base_uri": "https://localhost:8080/",
     "height": 35
    },
    "colab_type": "code",
    "id": "12-nIF7xGWXx",
    "outputId": "16f90ff2-e5ad-45c3-86c9-42d04f6466e6"
   },
   "outputs": [
    {
     "name": "stdout",
     "output_type": "stream",
     "text": [
      "1\n"
     ]
    }
   ],
   "source": [
    "def sinc(x):\n",
    "    try:\n",
    "        result = math.sin(x) / x\n",
    "    except ZeroDivisionError:\n",
    "        result = 1\n",
    "    return result\n",
    "print (sinc(0))"
   ]
  },
  {
   "cell_type": "markdown",
   "metadata": {
    "colab_type": "text",
    "id": "OVhS_KAUGnOZ"
   },
   "source": [
    "# Reading and writing files\n",
    "\n",
    "The built-in open function opens a file and returns a file object that you can use to read or write data. Here's an example of writing data to a file:"
   ]
  },
  {
   "cell_type": "code",
   "execution_count": 0,
   "metadata": {
    "colab": {},
    "colab_type": "code",
    "id": "q-F-pfUAG44X"
   },
   "outputs": [],
   "source": [
    "myfile = open('myfile.txt', 'w') # open file for writing\n",
    "myfile.write(\"red 1\\n\")\n",
    "myfile.write(\"green 2\\n\")\n",
    "myfile.write(\"blue 3\\n\")\n",
    "myfile.close()"
   ]
  }
 ],
 "metadata": {
  "accelerator": "GPU",
  "colab": {
   "include_colab_link": true,
   "name": "05-2.python_basics",
   "provenance": [],
   "toc_visible": true,
   "version": "0.3.2"
  },
  "kernelspec": {
   "display_name": "Python 3",
   "language": "python",
   "name": "python3"
  },
  "language_info": {
   "codemirror_mode": {
    "name": "ipython",
    "version": 3
   },
   "file_extension": ".py",
   "mimetype": "text/x-python",
   "name": "python",
   "nbconvert_exporter": "python",
   "pygments_lexer": "ipython3",
   "version": "3.6.7"
  }
 },
 "nbformat": 4,
 "nbformat_minor": 1
}
