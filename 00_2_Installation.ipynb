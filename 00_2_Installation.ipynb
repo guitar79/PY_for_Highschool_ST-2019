{
 "cells": [
  {
   "cell_type": "markdown",
   "metadata": {
    "colab_type": "text",
    "id": "view-in-github"
   },
   "source": [
    "<a href=\"https://colab.research.google.com/github/guitar79/OA-2018/blob/master/08_2_Installation.ipynb\" target=\"_parent\"><img src=\"https://colab.research.google.com/assets/colab-badge.svg\" alt=\"Open In Colab\"/></a>"
   ]
  },
  {
   "cell_type": "markdown",
   "metadata": {
    "colab_type": "text",
    "id": "hgwkawzGMlms"
   },
   "source": [
    "**getting started python**\n",
    "\n",
    "\n",
    "* 이 자료는 파이썬을 처음 접하는 사람들을 위해 만들었다.\n",
    "\n",
    "* <a rel=\"license\" href=\"http://creativecommons.org/licenses/by-nc-sa/4.0/\">크리에이티브 커먼즈 저작자표시-비영리-동일조건변경허락 4.0 국제 라이선스</a>에 따라 이용할 수 있음.\n",
    "\n",
    "<a rel=\"license\" href=\"http://creativecommons.org/licenses/by-nc-sa/4.0/\"><img alt=\"크리에이티브 커먼즈 라이선스\" style=\"border-width:0\" src=\"https://i.creativecommons.org/l/by-nc-sa/4.0/88x31.png\" /></a>"
   ]
  },
  {
   "cell_type": "markdown",
   "metadata": {
    "colab_type": "text",
    "id": "u7wfBH1zb8kW"
   },
   "source": [
    "\n",
    "# Python\n",
    "\n",
    "python의 공식 [웹사이트](https://www.python.org/) 에서 자신의 운영체제에 맞는 python을 설치할 수 있지만, \n",
    "본 강의에서는 [Anaconda](https://anaconda.org/)를 설치하여 pyton을 이용할 것이다. \n",
    "\n",
    "Python 2 와 python 3이 서로 다르지만 앞으로는 python 3가 더 빈번하게 사용될 것이니 Python 3를 사용하자.\n",
    "\n",
    "\n",
    "# Anaconda\n",
    "\n",
    "[Anaconda](https://anaconda.org/)를 통해 설치할 것이다. 만약 설치 공간이 부족하다면 miniconda를 이용해 보기를 권한다. \n",
    "\n",
    "Python 2 와 python 3이 서로 다르지만 앞으로는 python3가 더 빈번하게 사용될 것이니 Anaconda3과 Python 3를 사용하자.\n",
    "\n",
    "다운로드가 끝나면 terminal windows (command windows, anaconda prompt)를 열어보자.\n",
    "\n",
    "\n",
    "# Install Python packages\n",
    "\n",
    "python package를 사용하기 위해서는 미리 설치되어 있어야 한다. pip 또는 anaconda 를 이용하여 설치할 수 있는데, anaconda (https://www.anaconda.com/download/) 를 주로 사용할 것이다.\n",
    "\n",
    " Anaconda prompt에서 다음과 같이 입력하여 package를 설치할 수 있다.\n",
    "\n",
    ">conda install astropy\n",
    "\n"
   ]
  }
 ],
 "metadata": {
  "accelerator": "GPU",
  "colab": {
   "collapsed_sections": [],
   "include_colab_link": true,
   "name": "08-2.Installation",
   "provenance": [],
   "toc_visible": true,
   "version": "0.3.2"
  },
  "kernelspec": {
   "display_name": "Python 3",
   "language": "python",
   "name": "python3"
  },
  "language_info": {
   "codemirror_mode": {
    "name": "ipython",
    "version": 3
   },
   "file_extension": ".py",
   "mimetype": "text/x-python",
   "name": "python",
   "nbconvert_exporter": "python",
   "pygments_lexer": "ipython3",
   "version": "3.6.7"
  }
 },
 "nbformat": 4,
 "nbformat_minor": 1
}
